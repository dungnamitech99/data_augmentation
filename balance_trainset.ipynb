{
 "cells": [
  {
   "cell_type": "code",
   "execution_count": 1,
   "metadata": {},
   "outputs": [],
   "source": [
    "train_dir = \"data/train3s_org_fa_sil_80\""
   ]
  },
  {
   "cell_type": "code",
   "execution_count": 2,
   "metadata": {},
   "outputs": [],
   "source": [
    "import os\n",
    "import sys\n",
    "import numpy as np\n",
    "import matplotlib.pyplot as plt\n",
    "import random\n",
    "import copy"
   ]
  },
  {
   "cell_type": "code",
   "execution_count": 3,
   "metadata": {},
   "outputs": [],
   "source": [
    "def load_data_info(data_dir):\n",
    "    data_info = {}\n",
    "    with open(data_dir + \"/uttid\", \"rt\") as fp:\n",
    "        for line in fp:\n",
    "            uttid = line.strip()\n",
    "            if len(uttid) > 0:\n",
    "                data_info[uttid] = {}\n",
    "\n",
    "    with open(data_dir + \"/calib.txt\", \"rt\") as fp:\n",
    "        for line in fp:\n",
    "            toks = line.strip().split()\n",
    "            if len(toks) >= 2:\n",
    "                if toks[0] in data_info.keys():\n",
    "                    data_info[toks[0]][\"calib_time\"] = float(toks[1])\n",
    "                else:\n",
    "                    print(\"Missing \", toks)\n",
    "\n",
    "    with open(data_dir + \"/labels\", \"rt\") as fp:\n",
    "        for line in fp:\n",
    "            toks = line.strip().split()\n",
    "            if len(toks) >= 2:\n",
    "                if toks[0] in data_info.keys():\n",
    "                    data_info[toks[0]][\"label\"] = toks[1]\n",
    "                else:\n",
    "                    print(\"Missing \", toks)\n",
    "\n",
    "    with open(data_dir + \"/wav.scp\", \"rt\") as fp:\n",
    "        for line in fp:\n",
    "            toks = line.strip().split()\n",
    "            if len(toks) >= 2:\n",
    "                if toks[0] in data_info.keys():\n",
    "                    data_info[toks[0]][\"wavfn\"] = toks[1]\n",
    "                else:\n",
    "                    print(\"Missing \", toks)\n",
    "\n",
    "    return data_info"
   ]
  },
  {
   "cell_type": "code",
   "execution_count": 4,
   "metadata": {},
   "outputs": [],
   "source": [
    "data_info = load_data_info(train_dir)"
   ]
  },
  {
   "cell_type": "code",
   "execution_count": 5,
   "metadata": {},
   "outputs": [],
   "source": [
    "def compute_labels_stats(data_info):\n",
    "    stats = {}\n",
    "    for uttid in data_info.keys():\n",
    "        label = data_info[uttid][\"label\"]\n",
    "        if label in stats.keys():\n",
    "            stats[label] += 1\n",
    "        else:\n",
    "            stats[label] = 1\n",
    "\n",
    "    return stats"
   ]
  },
  {
   "cell_type": "code",
   "execution_count": 6,
   "metadata": {},
   "outputs": [
    {
     "name": "stdout",
     "output_type": "stream",
     "text": [
      "{'negative': 19009, 'positive': 3891}\n"
     ]
    }
   ],
   "source": [
    "labels_stats = compute_labels_stats(data_info)\n",
    "print(labels_stats)"
   ]
  },
  {
   "cell_type": "code",
   "execution_count": 7,
   "metadata": {},
   "outputs": [],
   "source": [
    "out_data_info = {}\n",
    "# copy positive samples\n",
    "for uttid in data_info.keys():\n",
    "    if data_info[uttid][\"label\"] == \"positive\":\n",
    "        out_data_info[uttid] = data_info[uttid]\n",
    "\n",
    "# copy 30% nev\n",
    "uttids = [k for k in data_info.keys()]\n",
    "random.shuffle(uttids)\n",
    "N = labels_stats[\"positive\"] * 70 // 100\n",
    "n = 0\n",
    "for uttid in uttids:\n",
    "    if data_info[uttid][\"label\"] == \"negative\":\n",
    "        out_data_info[uttid] = data_info[uttid]\n",
    "        n += 1\n",
    "        if N == n:\n",
    "            break\n",
    "\n",
    "# generate others nev from pos\n",
    "N = labels_stats[\"positive\"] - N\n",
    "n = 0\n",
    "dt_samples = 800  # 50ms\n",
    "for uttid in uttids:\n",
    "    if data_info[uttid][\"label\"] == \"positive\":\n",
    "        new_uttid = \"nev_\" + uttid\n",
    "        out_data_info[new_uttid] = copy.deepcopy(data_info[uttid])\n",
    "        out_data_info[new_uttid][\"label\"] = \"negative\"\n",
    "        offset = random.randint(-dt_samples, dt_samples) / 16000\n",
    "        if random.randint(0, 1) == 1:\n",
    "            out_data_info[new_uttid][\"calib_time\"] += offset + 0.9\n",
    "        else:\n",
    "            out_data_info[new_uttid][\"calib_time\"] += offset - 0.6\n",
    "        n += 1\n",
    "\n",
    "        if N == n:\n",
    "            break"
   ]
  },
  {
   "cell_type": "code",
   "execution_count": 8,
   "metadata": {},
   "outputs": [
    {
     "name": "stdout",
     "output_type": "stream",
     "text": [
      "{'positive': 3891, 'negative': 3891}\n"
     ]
    }
   ],
   "source": [
    "labels_stats1 = compute_labels_stats(out_data_info)\n",
    "print(labels_stats1)"
   ]
  },
  {
   "cell_type": "code",
   "execution_count": 9,
   "metadata": {},
   "outputs": [],
   "source": [
    "def export_label_time_wav(dbinfo, label_time_wav_fn):\n",
    "    with open(label_time_wav_fn, \"wt\") as fp:\n",
    "        for uttid in dbinfo.keys():\n",
    "            line = (\n",
    "                dbinfo[uttid][\"label\"]\n",
    "                + \" {:.3f}\".format(dbinfo[uttid][\"calib_time\"])\n",
    "                + \" \"\n",
    "                + dbinfo[uttid][\"wavfn\"]\n",
    "                + \"\\n\"\n",
    "            )\n",
    "            fp.write(line)"
   ]
  },
  {
   "cell_type": "code",
   "execution_count": 10,
   "metadata": {},
   "outputs": [],
   "source": [
    "export_label_time_wav(out_data_info, train_dir + \"/label_time_wav_balanced.txt\")"
   ]
  }
 ],
 "metadata": {
  "kernelspec": {
   "display_name": "tf-gpu",
   "language": "python",
   "name": "python3"
  },
  "language_info": {
   "codemirror_mode": {
    "name": "ipython",
    "version": 3
   },
   "file_extension": ".py",
   "mimetype": "text/x-python",
   "name": "python",
   "nbconvert_exporter": "python",
   "pygments_lexer": "ipython3",
   "version": "3.9.16"
  },
  "orig_nbformat": 4
 },
 "nbformat": 4,
 "nbformat_minor": 2
}
