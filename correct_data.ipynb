{
 "cells": [
  {
   "cell_type": "code",
   "execution_count": 1,
   "metadata": {},
   "outputs": [
    {
     "name": "stderr",
     "output_type": "stream",
     "text": [
      "2023-06-02 14:28:55.082204: I tensorflow/core/platform/cpu_feature_guard.cc:182] This TensorFlow binary is optimized to use available CPU instructions in performance-critical operations.\n",
      "To enable the following instructions: AVX2 FMA, in other operations, rebuild TensorFlow with the appropriate compiler flags.\n",
      "2023-06-02 14:28:55.945648: W tensorflow/compiler/tf2tensorrt/utils/py_utils.cc:38] TF-TRT Warning: Could not find TensorRT\n"
     ]
    }
   ],
   "source": [
    "import os\n",
    "import sys\n",
    "import tensorflow as tf\n",
    "import tensorflow_io as tfio\n",
    "import numpy as np\n",
    "from IPython.display import Audio\n",
    "import matplotlib.pyplot as plt\n",
    "from tensorflow.python.platform import gfile\n",
    "from tensorflow.python.summary.writer.writer import FileWriter\n",
    "from tensorflow.core.framework import summary_pb2\n",
    "\n",
    "import matplotlib.pyplot as plt\n",
    "import wuw.data\n",
    "import wuw.models\n",
    "import yaml\n",
    "import json\n",
    "from tqdm.notebook import trange, tqdm\n",
    "from PIL import Image\n",
    "\n",
    "tf.compat.v1.disable_eager_execution()\n",
    "\n",
    "plt.rcParams[\"figure.figsize\"] = [12, 8]\n",
    "plt.rcParams[\"figure.dpi\"] = 100"
   ]
  },
  {
   "cell_type": "code",
   "execution_count": 2,
   "metadata": {},
   "outputs": [],
   "source": [
    "# conf_fn = \"conf/lstm-s.yaml\"\n",
    "# expdir = \"exp/utt3s_trainset2_lstm_step10k_allbg5\"\n",
    "conf_fn = \"conf/dscnn-tiny.yaml\"\n",
    "expdir = \"exp/utt3s_trainset2_dscnn-tiny_step10k_allbg5\"\n",
    "logdir = expdir + \"/logs\"\n",
    "\n",
    "with open(conf_fn, \"r\") as stream:\n",
    "    try:\n",
    "        conf_yaml = yaml.safe_load(stream)\n",
    "        # print(json.dumps(conf_yaml, indent=2))\n",
    "    except yaml.YAMLError as exc:\n",
    "        print(exc)"
   ]
  },
  {
   "cell_type": "code",
   "execution_count": 5,
   "metadata": {},
   "outputs": [
    {
     "name": "stderr",
     "output_type": "stream",
     "text": [
      "2023-06-02 14:30:58.045436: I tensorflow/compiler/xla/stream_executor/cuda/cuda_gpu_executor.cc:996] successful NUMA node read from SysFS had negative value (-1), but there must be at least one NUMA node, so returning NUMA node zero. See more at https://github.com/torvalds/linux/blob/v6.0/Documentation/ABI/testing/sysfs-bus-pci#L344-L355\n",
      "2023-06-02 14:30:58.045764: I tensorflow/compiler/xla/stream_executor/cuda/cuda_gpu_executor.cc:996] successful NUMA node read from SysFS had negative value (-1), but there must be at least one NUMA node, so returning NUMA node zero. See more at https://github.com/torvalds/linux/blob/v6.0/Documentation/ABI/testing/sysfs-bus-pci#L344-L355\n",
      "2023-06-02 14:30:58.045916: I tensorflow/compiler/xla/stream_executor/cuda/cuda_gpu_executor.cc:996] successful NUMA node read from SysFS had negative value (-1), but there must be at least one NUMA node, so returning NUMA node zero. See more at https://github.com/torvalds/linux/blob/v6.0/Documentation/ABI/testing/sysfs-bus-pci#L344-L355\n",
      "2023-06-02 14:30:58.046094: I tensorflow/compiler/xla/stream_executor/cuda/cuda_gpu_executor.cc:996] successful NUMA node read from SysFS had negative value (-1), but there must be at least one NUMA node, so returning NUMA node zero. See more at https://github.com/torvalds/linux/blob/v6.0/Documentation/ABI/testing/sysfs-bus-pci#L344-L355\n",
      "2023-06-02 14:30:58.046206: I tensorflow/compiler/xla/stream_executor/cuda/cuda_gpu_executor.cc:996] successful NUMA node read from SysFS had negative value (-1), but there must be at least one NUMA node, so returning NUMA node zero. See more at https://github.com/torvalds/linux/blob/v6.0/Documentation/ABI/testing/sysfs-bus-pci#L344-L355\n",
      "2023-06-02 14:30:58.046296: I tensorflow/core/common_runtime/gpu/gpu_device.cc:1635] Created device /job:localhost/replica:0/task:0/device:GPU:0 with 3958 MB memory:  -> device: 0, name: NVIDIA GeForce RTX 3060 Laptop GPU, pci bus id: 0000:01:00.0, compute capability: 8.6\n",
      "2023-06-02 14:30:58.139801: I tensorflow/compiler/xla/stream_executor/cuda/cuda_gpu_executor.cc:996] successful NUMA node read from SysFS had negative value (-1), but there must be at least one NUMA node, so returning NUMA node zero. See more at https://github.com/torvalds/linux/blob/v6.0/Documentation/ABI/testing/sysfs-bus-pci#L344-L355\n",
      "2023-06-02 14:30:58.139990: I tensorflow/compiler/xla/stream_executor/cuda/cuda_gpu_executor.cc:996] successful NUMA node read from SysFS had negative value (-1), but there must be at least one NUMA node, so returning NUMA node zero. See more at https://github.com/torvalds/linux/blob/v6.0/Documentation/ABI/testing/sysfs-bus-pci#L344-L355\n",
      "2023-06-02 14:30:58.140089: I tensorflow/compiler/xla/stream_executor/cuda/cuda_gpu_executor.cc:996] successful NUMA node read from SysFS had negative value (-1), but there must be at least one NUMA node, so returning NUMA node zero. See more at https://github.com/torvalds/linux/blob/v6.0/Documentation/ABI/testing/sysfs-bus-pci#L344-L355\n",
      "2023-06-02 14:30:58.140215: I tensorflow/compiler/xla/stream_executor/cuda/cuda_gpu_executor.cc:996] successful NUMA node read from SysFS had negative value (-1), but there must be at least one NUMA node, so returning NUMA node zero. See more at https://github.com/torvalds/linux/blob/v6.0/Documentation/ABI/testing/sysfs-bus-pci#L344-L355\n",
      "2023-06-02 14:30:58.140310: I tensorflow/compiler/xla/stream_executor/cuda/cuda_gpu_executor.cc:996] successful NUMA node read from SysFS had negative value (-1), but there must be at least one NUMA node, so returning NUMA node zero. See more at https://github.com/torvalds/linux/blob/v6.0/Documentation/ABI/testing/sysfs-bus-pci#L344-L355\n",
      "2023-06-02 14:30:58.140384: I tensorflow/core/common_runtime/gpu/gpu_device.cc:1635] Created device /job:localhost/replica:0/task:0/device:GPU:0 with 3958 MB memory:  -> device: 0, name: NVIDIA GeForce RTX 3060 Laptop GPU, pci bus id: 0000:01:00.0, compute capability: 8.6\n"
     ]
    },
    {
     "name": "stdout",
     "output_type": "stream",
     "text": [
      "-----\n",
      "Set index: validation - Count: dict_items([(<Label.NEGATIVE: 1>, 4974), (<Label.POSITIVE: 0>, 2932)]) - Sum: 7906\n",
      "Set index: testing - Count: dict_items([(<Label.NEGATIVE: 1>, 1927), (<Label.POSITIVE: 0>, 432)]) - Sum: 2359\n",
      "Set index: training - Count: dict_items([(<Label.POSITIVE: 0>, 11732), (<Label.NEGATIVE: 1>, 19898)]) - Sum: 31630\n",
      "Total count: dict_items([(<Label.NEGATIVE: 1>, 26799), (<Label.POSITIVE: 0>, 15096)]) - Sum: 41895\n",
      "-----\n",
      "Load background\n",
      "wav_decoder (48000, 1)\n",
      "left_position_= Tensor(\"left_position:0\", shape=(), dtype=int32)\n",
      "scaled_foreground (20800, 1)\n",
      "background_clamp (20800, 1)\n",
      "spectrogram_: (1, 64, 513)\n"
     ]
    },
    {
     "name": "stderr",
     "output_type": "stream",
     "text": [
      "2023-06-02 14:31:01.681729: I tensorflow/core/common_runtime/executor.cc:1197] [/device:CPU:0] (DEBUG INFO) Executor start aborting (this does not indicate an error and you can ignore this message): INVALID_ARGUMENT: You must feed a value for placeholder tensor 'left_position' with dtype int32\n",
      "\t [[{{node left_position}}]]\n"
     ]
    }
   ],
   "source": [
    "tf.compat.v1.reset_default_graph()\n",
    "sess = tf.compat.v1.InteractiveSession()\n",
    "model = wuw.models.select_model(\n",
    "    conf_yaml[\"data_conf\"], conf_yaml[\"feat_conf\"], conf_yaml[\"model_conf\"]\n",
    ")\n",
    "\n",
    "\n",
    "conf_yaml[\"model_conf\"] = model.prepare_model_settings()\n",
    "audio_loader = wuw.data.AudioLoader(\n",
    "    conf_yaml[\"data_conf\"], conf_yaml[\"feat_conf\"], conf_yaml[\"model_conf\"]\n",
    ")"
   ]
  },
  {
   "cell_type": "code",
   "execution_count": 6,
   "metadata": {},
   "outputs": [
    {
     "name": "stderr",
     "output_type": "stream",
     "text": [
      "/disk2/softs/miniconda3/envs/tf-gpu/lib/python3.9/site-packages/tensorflow/python/keras/engine/base_layer_v1.py:1694: UserWarning: `layer.apply` is deprecated and will be removed in a future version. Please use `layer.__call__` method instead.\n",
      "  warnings.warn('`layer.apply` is deprecated and '\n"
     ]
    },
    {
     "name": "stdout",
     "output_type": "stream",
     "text": [
      "Total number of Parameters: 251438\n",
      "-----\n",
      "INFO:tensorflow:Restoring parameters from exp/utt3s_trainset2_dscnn-tiny_step10k_allbg5/best/ds_cnn_9714.ckpt-9699\n"
     ]
    }
   ],
   "source": [
    "fingerprint_size = conf_yaml[\"model_conf\"][\"fingerprint_size\"]\n",
    "label_count = conf_yaml[\"model_conf\"][\"label_count\"]\n",
    "training_steps_list = conf_yaml[\"model_conf\"][\"training_steps\"]\n",
    "learning_rates_list = conf_yaml[\"model_conf\"][\"learning_rate\"]\n",
    "\n",
    "fingerprint_input = tf.compat.v1.placeholder(\n",
    "    tf.float32, [None, fingerprint_size], name=\"fingerprint_input\"\n",
    ")\n",
    "ground_truth_input = tf.compat.v1.placeholder(\n",
    "    tf.float32, [None, label_count], name=\"groundtruth_input\"\n",
    ")\n",
    "logits, dropout_prob = model.forward(\n",
    "    fingerprint_input, conf_yaml[\"model_conf\"][\"model_size_info\"]\n",
    ")\n",
    "\n",
    "# Create the back propagation and training evaluation machinery in the graph.\n",
    "with tf.name_scope(\"cross_entropy\"):\n",
    "    cross_entropy_mean = tf.reduce_mean(\n",
    "        tf.nn.softmax_cross_entropy_with_logits(\n",
    "            labels=ground_truth_input, logits=logits\n",
    "        )\n",
    "    )\n",
    "tf.compat.v1.summary.scalar(\"cross_entropy\", cross_entropy_mean)\n",
    "\n",
    "update_ops = tf.compat.v1.get_collection(tf.compat.v1.GraphKeys.UPDATE_OPS)\n",
    "with tf.name_scope(\"train\"), tf.control_dependencies(update_ops):\n",
    "    learning_rate_input = tf.compat.v1.placeholder(\n",
    "        tf.float32, [], name=\"learning_rate_input\"\n",
    "    )\n",
    "    train_step = tf.compat.v1.train.AdamOptimizer(learning_rate_input).minimize(\n",
    "        cross_entropy_mean\n",
    "    )\n",
    "\n",
    "predicted_indices = tf.argmax(logits, 1)\n",
    "expected_indices = tf.argmax(ground_truth_input, 1)\n",
    "correct_prediction = tf.equal(predicted_indices, expected_indices)\n",
    "confusion_matrix = tf.math.confusion_matrix(\n",
    "    expected_indices, predicted_indices, num_classes=label_count\n",
    ")\n",
    "evaluation_step = tf.reduce_mean(tf.cast(correct_prediction, tf.float32))\n",
    "tf.compat.v1.summary.scalar(\"accuracy\", evaluation_step)\n",
    "\n",
    "global_step = tf.compat.v1.train.get_or_create_global_step()\n",
    "increment_global_step = tf.compat.v1.assign(global_step, global_step + 1)\n",
    "saver = tf.compat.v1.train.Saver(tf.compat.v1.global_variables())\n",
    "\n",
    "# Merge all the summaries and write them out to /tmp/retrain_logs (by default)\n",
    "merged_summaries = tf.compat.v1.summary.merge_all()\n",
    "train_writer = tf.compat.v1.summary.FileWriter(\n",
    "    os.path.join(expdir, \"train\"), sess.graph\n",
    ")\n",
    "validation_writer = tf.compat.v1.summary.FileWriter(os.path.join(expdir, \"val\"))\n",
    "\n",
    "tf.compat.v1.global_variables_initializer().run()\n",
    "params = tf.compat.v1.trainable_variables()\n",
    "num_params = sum(map(lambda t: np.prod(tf.shape(t.value()).eval()), params))\n",
    "print(\"Total number of Parameters: {}\\n-----\".format(num_params))\n",
    "\n",
    "# Save graph.pbtxt.\n",
    "# tf.io.write_graph(sess.graph_def, expdir, '{}.pbtxt'.format(conf_yaml[\"model_conf\"][\"name\"]))\n",
    "model.load_variables_from_checkpoint(\n",
    "    sess, tf.compat.v1.train.latest_checkpoint(expdir + \"/best\")\n",
    ")"
   ]
  },
  {
   "cell_type": "code",
   "execution_count": 24,
   "metadata": {},
   "outputs": [
    {
     "name": "stdout",
     "output_type": "stream",
     "text": [
      "set_size=31630\n"
     ]
    },
    {
     "data": {
      "application/vnd.jupyter.widget-view+json": {
       "model_id": "f2cb8b52e6e3461cafdfb45b42e22fa0",
       "version_major": 2,
       "version_minor": 0
      },
      "text/plain": [
       "  0%|          | 0/159 [00:00<?, ?it/s]"
      ]
     },
     "metadata": {},
     "output_type": "display_data"
    },
    {
     "name": "stdout",
     "output_type": "stream",
     "text": [
      "Final confusion matrix: \n",
      " [[11482   250]\n",
      " [  238 19660]]\n",
      "Final accuracy 0.9845716212506618\n"
     ]
    }
   ],
   "source": [
    "predicted_output = []\n",
    "\n",
    "train_size = audio_loader.size(\"training\")\n",
    "print(f\"set_size={train_size}\")\n",
    "total_accuracy = 0\n",
    "total_conf_matrix = None\n",
    "for i in trange(0, train_size, conf_yaml[\"model_conf\"][\"batch_size\"]):\n",
    "    test_fingerprints, test_ground_truth = audio_loader.load_batch(\n",
    "        sess,\n",
    "        conf_yaml[\"model_conf\"][\"batch_size\"],\n",
    "        offset=i,\n",
    "        background_frequency=0,\n",
    "        background_volume_range=0,\n",
    "        time_shift=0,\n",
    "        mode=\"training\",\n",
    "    )\n",
    "    test_summary, test_accuracy, test_matrix, correct_prediction_i = sess.run(\n",
    "        [merged_summaries, evaluation_step, confusion_matrix, correct_prediction],\n",
    "        feed_dict={\n",
    "            fingerprint_input: test_fingerprints,\n",
    "            ground_truth_input: test_ground_truth,\n",
    "            dropout_prob: 1.0,\n",
    "        },\n",
    "    )\n",
    "    batch_size = min(conf_yaml[\"model_conf\"][\"batch_size\"], train_size - i)\n",
    "    total_accuracy += (test_accuracy * batch_size) / train_size\n",
    "    if total_conf_matrix is None:\n",
    "        total_conf_matrix = test_matrix\n",
    "    else:\n",
    "        total_conf_matrix += test_matrix\n",
    "\n",
    "    predicted_output_i = audio_loader.data_index[\"training\"][i : i + batch_size]\n",
    "\n",
    "    predicted_output += [\n",
    "        predicted_output_i[x] for x in range(batch_size) if not correct_prediction_i[x]\n",
    "    ]\n",
    "\n",
    "print(f\"Final confusion matrix: \\n {total_conf_matrix}\")\n",
    "print(f\"Final accuracy {total_accuracy}\")"
   ]
  },
  {
   "cell_type": "code",
   "execution_count": 40,
   "metadata": {},
   "outputs": [],
   "source": [
    "double_check_list_fn = \"data/trainsets/trainset2_ftel_clone1_devsil/double_check.list\"\n",
    "\n",
    "label_names = {\n",
    "    wuw.data.Label.POSITIVE: \"positive\",\n",
    "    wuw.data.Label.NEGATIVE: \"negative\",\n",
    "    wuw.data.Label.SILENCE: \"silence\",\n",
    "}\n",
    "\n",
    "with open(double_check_list_fn, \"wt\") as fp:\n",
    "    for x in predicted_output:\n",
    "        line = (\n",
    "            label_names[x[\"label\"]]\n",
    "            + \" {:.2f} \".format(x[\"right_position\"] / 16000)\n",
    "            + x[\"file\"]\n",
    "            + \"\\n\"\n",
    "        )\n",
    "        fp.write(line)"
   ]
  },
  {
   "cell_type": "code",
   "execution_count": 39,
   "metadata": {},
   "outputs": [
    {
     "data": {
      "text/plain": [
       "<Label.NEGATIVE: 1>"
      ]
     },
     "execution_count": 39,
     "metadata": {},
     "output_type": "execute_result"
    }
   ],
   "source": [
    "x[\"label\"]"
   ]
  }
 ],
 "metadata": {
  "kernelspec": {
   "display_name": "tf-gpu",
   "language": "python",
   "name": "python3"
  },
  "language_info": {
   "codemirror_mode": {
    "name": "ipython",
    "version": 3
   },
   "file_extension": ".py",
   "mimetype": "text/x-python",
   "name": "python",
   "nbconvert_exporter": "python",
   "pygments_lexer": "ipython3",
   "version": "3.9.16"
  },
  "orig_nbformat": 4
 },
 "nbformat": 4,
 "nbformat_minor": 2
}
