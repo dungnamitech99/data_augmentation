{
 "cells": [
  {
   "cell_type": "code",
   "execution_count": 1,
   "metadata": {},
   "outputs": [],
   "source": [
    "import sys\n",
    "import os\n",
    "import json\n",
    "import random"
   ]
  },
  {
   "cell_type": "code",
   "execution_count": 2,
   "metadata": {},
   "outputs": [],
   "source": [
    "trainset_name = \"trainset3_for_verification\"\n",
    "train_dir = \"data/trainsets/\" + trainset_name\n",
    "\n",
    "trainset_list = {\n",
    "    \"pos\": [\n",
    "        \"data/pos/pos3s_train_ftel_org\",\n",
    "        \"data/pos/pos3s_train_ftel_clone_cleanenv\",\n",
    "        \"data/pos/pos3s_train_ftel_clone_musicV30\",\n",
    "    ],\n",
    "    \"nev\": [\n",
    "        \"data/sil/sil_from_dev_16K_3s\",\n",
    "        \"data/fa/fa_ftel_isolate\",\n",
    "        \"data/fa/fa_nami_1\",\n",
    "        \"data/fa/fa_ftel_clone_cleanenv\",\n",
    "        \"data/fa/fa_ftel_clone_musicV30\",\n",
    "    ],\n",
    "    \"note\": \"this data is for wuw verification task\",\n",
    "}"
   ]
  },
  {
   "cell_type": "code",
   "execution_count": 3,
   "metadata": {},
   "outputs": [],
   "source": [
    "if not os.path.exists(train_dir):\n",
    "    os.makedirs(train_dir, exist_ok=True)\n",
    "\n",
    "with open(train_dir + \"/info.txt\", \"wt\") as fp:\n",
    "    json.dump(trainset_list, fp, indent=2)"
   ]
  },
  {
   "cell_type": "code",
   "execution_count": 4,
   "metadata": {},
   "outputs": [],
   "source": [
    "def load_dataset(pos_set_dir):\n",
    "    pos_set = {}\n",
    "    with open(pos_set_dir + \"/uttid\", \"rt\") as fp:\n",
    "        for line in fp:\n",
    "            toks = line.strip().split()\n",
    "            if len(toks) == 1:\n",
    "                pos_set[toks[0]] = {}\n",
    "\n",
    "    with open(pos_set_dir + \"/wav.scp\", \"rt\") as fp:\n",
    "        for line in fp:\n",
    "            toks = line.strip().split()\n",
    "            if len(toks) == 2 and toks[0] in pos_set.keys():\n",
    "                pos_set[toks[0]][\"wavfn\"] = toks[1]\n",
    "\n",
    "    with open(pos_set_dir + \"/calib.txt\", \"rt\") as fp:\n",
    "        for line in fp:\n",
    "            toks = line.strip().split()\n",
    "            if len(toks) >= 2 and toks[0] in pos_set.keys():\n",
    "                pos_set[toks[0]][\"calib\"] = float(toks[1])\n",
    "\n",
    "    return pos_set"
   ]
  },
  {
   "cell_type": "code",
   "execution_count": 5,
   "metadata": {},
   "outputs": [],
   "source": [
    "with open(train_dir + \"/label_time_wav.txt\", \"wt\") as out_fp:\n",
    "    for pos_set_dir in trainset_list[\"pos\"]:\n",
    "        pos_set = load_dataset(pos_set_dir)\n",
    "        for k in pos_set.keys():\n",
    "            if \"wavfn\" in pos_set[k].keys() and \"calib\" in pos_set[k].keys():\n",
    "                line = (\n",
    "                    \"positive {:.3f} \".format(pos_set[k][\"calib\"]) + pos_set[k][\"wavfn\"]\n",
    "                )\n",
    "                out_fp.write(line + \"\\n\")\n",
    "\n",
    "    for nev_set_dir in trainset_list[\"nev\"]:\n",
    "        nev_set = load_dataset(nev_set_dir)\n",
    "        for k in nev_set.keys():\n",
    "            if \"wavfn\" in nev_set[k].keys() and \"calib\" in nev_set[k].keys():\n",
    "                line = (\n",
    "                    \"negative {:.3f} \".format(nev_set[k][\"calib\"]) + nev_set[k][\"wavfn\"]\n",
    "                )\n",
    "                out_fp.write(line + \"\\n\")"
   ]
  },
  {
   "cell_type": "code",
   "execution_count": 6,
   "metadata": {},
   "outputs": [
    {
     "name": "stdout",
     "output_type": "stream",
     "text": [
      "Number of positive samples:  14664\n",
      "Number of negative samples:  2866\n",
      "=============\n",
      "Number of positive samples in validate set:  2932\n",
      "Number of negative samples in validate set:  573\n",
      "Number of positive samples in train set:  11732\n",
      "Number of negative samples in train set:  2293\n"
     ]
    }
   ],
   "source": [
    "def split_train_dev(fn, fn_train, fn_dev, dev_per):\n",
    "    data_info = {\"pos\": [], \"nev\": []}\n",
    "    with open(fn, \"rt\") as fp:\n",
    "        for line in fp:\n",
    "            toks = line.strip().split()\n",
    "            if len(toks) == 3:\n",
    "                if toks[0] == \"positive\":\n",
    "                    data_info[\"pos\"].append(\" \".join(toks))\n",
    "                elif toks[0] == \"negative\":\n",
    "                    data_info[\"nev\"].append(\" \".join(toks))\n",
    "                else:\n",
    "                    print(\"ERROR \" + line)\n",
    "\n",
    "    npos = len(data_info[\"pos\"])\n",
    "    nnev = len(data_info[\"nev\"])\n",
    "\n",
    "    random.shuffle(data_info[\"pos\"])\n",
    "    random.shuffle(data_info[\"nev\"])\n",
    "\n",
    "    print(\"Number of positive samples: \", npos)\n",
    "    print(\"Number of negative samples: \", nnev)\n",
    "    print(\"=============\")\n",
    "    npos_dev = int(npos * dev_per / 100)\n",
    "    nnev_dev = int(nnev * dev_per / 100)\n",
    "    print(\"Number of positive samples in validate set: \", npos_dev)\n",
    "    print(\"Number of negative samples in validate set: \", nnev_dev)\n",
    "    print(\"Number of positive samples in train set: \", npos - npos_dev)\n",
    "    print(\"Number of negative samples in train set: \", nnev - nnev_dev)\n",
    "    with open(fn_dev, \"wt\") as fp:\n",
    "        for line in data_info[\"pos\"][0:npos_dev]:\n",
    "            fp.write(line + \"\\n\")\n",
    "        for line in data_info[\"nev\"][0:nnev_dev]:\n",
    "            fp.write(line + \"\\n\")\n",
    "\n",
    "    with open(fn_train, \"wt\") as fp:\n",
    "        for line in data_info[\"pos\"][npos_dev:]:\n",
    "            fp.write(line + \"\\n\")\n",
    "        for line in data_info[\"nev\"][nnev_dev:]:\n",
    "            fp.write(line + \"\\n\")\n",
    "\n",
    "\n",
    "split_train_dev(\n",
    "    train_dir + \"/label_time_wav.txt\",\n",
    "    train_dir + \"/label_time_wav_80.txt\",\n",
    "    train_dir + \"/label_time_wav_20.txt\",\n",
    "    20,\n",
    ")"
   ]
  }
 ],
 "metadata": {
  "kernelspec": {
   "display_name": "tf-gpu",
   "language": "python",
   "name": "python3"
  },
  "language_info": {
   "codemirror_mode": {
    "name": "ipython",
    "version": 3
   },
   "file_extension": ".py",
   "mimetype": "text/x-python",
   "name": "python",
   "nbconvert_exporter": "python",
   "pygments_lexer": "ipython3",
   "version": "3.9.16"
  },
  "orig_nbformat": 4
 },
 "nbformat": 4,
 "nbformat_minor": 2
}
